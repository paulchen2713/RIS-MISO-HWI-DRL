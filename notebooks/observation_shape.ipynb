{
 "cells": [
  {
   "cell_type": "code",
   "execution_count": 1,
   "metadata": {},
   "outputs": [],
   "source": [
    "import torch\n",
    "\n",
    "import gym\n",
    "from gym import spaces\n",
    "from gym.utils.env_checker import check_env as gym_check_env\n",
    "\n",
    "import stable_baselines3 as sb3\n",
    "from stable_baselines3.common.env_checker import check_env as sb3_check_env\n",
    "\n",
    "import numpy as np\n",
    "from numpy import linalg\n",
    "from sympy import sin, cos, pi  # \n",
    "\n",
    "from scipy.stats import vonmises_line\n",
    "\n",
    "import inspect\n",
    "\n",
    "\n",
    "def retrieve_name(var):\n",
    "    callers_local_vars = inspect.currentframe().f_back.f_back.f_locals.items()\n",
    "    return [var_name for var_name, var_val in callers_local_vars if var_val is var]\n",
    "\n",
    "def log(*argv):\n",
    "    for arg in argv:\n",
    "        print(f\"-\"*75)\n",
    "        print(f\"{retrieve_name(arg)}\")\n",
    "        print(f\"content: \")\n",
    "        print(arg)\n",
    "        print(f\"type: {type(arg)}\")\n",
    "        if isinstance(arg, np.ndarray) or isinstance(arg, torch.Tensor): \n",
    "            print(f\"shape: {arg.shape}\")\n",
    "        elif isinstance(arg, list) or isinstance(arg, str) or isinstance(arg, dict):\n",
    "            print(f\"len: {len(arg)}\")"
   ]
  },
  {
   "cell_type": "code",
   "execution_count": 2,
   "metadata": {},
   "outputs": [
    {
     "name": "stdout",
     "output_type": "stream",
     "text": [
      "(1, 3)\n",
      "(3, 1)\n",
      "(3,)\n",
      "(3,)\n",
      "1234\n"
     ]
    }
   ],
   "source": [
    "x = np.array([[1, 2, 3]])\n",
    "print(x.shape)\n",
    "print(x.T.shape)\n",
    "print(np.squeeze(x).shape)\n",
    "print(np.squeeze(x, axis=0).shape)\n",
    "\n",
    "x = np.array([[1234]])\n",
    "print(np.squeeze(x))"
   ]
  },
  {
   "cell_type": "code",
   "execution_count": 3,
   "metadata": {},
   "outputs": [
    {
     "name": "stdout",
     "output_type": "stream",
     "text": [
      "H_1.shape, H_2.shape, H_3.shape, Phi.shape:  (16, 4) (4, 16) (4, 4) (16, 16)\n",
      "reshape(1, -1):  (1, 64) (1, 64) (1, 64) (1, 64) (1, 16) (1, 16) (1, 16) (1, 16)\n",
      "reshape(-1):     (64,) (64,) (64,) (64,) (16,) (16,) (16,) (16,)\n"
     ]
    }
   ],
   "source": [
    "H_1 = np.random.normal(0, np.sqrt(0.5), (16, 4)) + 1j*np.random.normal(0, np.sqrt(0.5), (16, 4)) \n",
    "H_2 = np.random.normal(0, np.sqrt(0.5), (4, 16)) + 1j*np.random.normal(0, np.sqrt(0.5), (4, 16))  \n",
    "H_3 = np.random.normal(0, np.sqrt(0.5), (4, 4)) + 1j*np.random.normal(0, np.sqrt(0.5), (4, 4))  \n",
    "Phi = np.eye(16, dtype=complex)\n",
    "\n",
    "print(\"H_1.shape, H_2.shape, H_3.shape, Phi.shape: \", H_1.shape, H_2.shape, H_3.shape, Phi.shape)\n",
    "\n",
    "\n",
    "H_1_real, H_1_imag = np.real(H_1).reshape(1, -1), np.imag(H_1).reshape(1, -1)  # shape: (1, Ns * Nt)\n",
    "H_2_real, H_2_imag = np.real(H_2).reshape(1, -1), np.imag(H_2).reshape(1, -1)  # shape: (1, Nk * Ns)\n",
    "H_3_real, H_3_imag = np.real(H_3).reshape(1, -1), np.imag(H_3).reshape(1, -1)  # shape: (1, Nk * Nt)\n",
    "Phi_real, Phi_imag = np.real(np.diag(Phi)).reshape(1, -1), np.imag(np.diag(Phi)).reshape(1, -1)  # shape: (1, Ns)\n",
    "\n",
    "print(\"reshape(1, -1): \", H_1_real.shape, H_1_imag.shape, H_2_real.shape, H_2_imag.shape, \\\n",
    "      H_3_real.shape, H_3_imag.shape, Phi_real.shape, Phi_imag.shape)\n",
    "\n",
    "\n",
    "H_1_real, H_1_imag = np.real(H_1).reshape(-1), np.imag(H_1).reshape(-1)  # shape: (1, Ns * Nt)\n",
    "H_2_real, H_2_imag = np.real(H_2).reshape(-1), np.imag(H_2).reshape(-1)  # shape: (1, Nk * Ns)\n",
    "H_3_real, H_3_imag = np.real(H_3).reshape(-1), np.imag(H_3).reshape(-1)  # shape: (1, Nk * Nt)\n",
    "Phi_real, Phi_imag = np.real(np.diag(Phi)).reshape(-1), np.imag(np.diag(Phi)).reshape(-1) \n",
    "\n",
    "print(\"reshape(-1):    \", H_1_real.shape, H_1_imag.shape, H_2_real.shape, H_2_imag.shape, \\\n",
    "      H_3_real.shape, H_3_imag.shape, Phi_real.shape, Phi_imag.shape)"
   ]
  },
  {
   "cell_type": "code",
   "execution_count": 4,
   "metadata": {},
   "outputs": [
    {
     "name": "stdout",
     "output_type": "stream",
     "text": [
      "(16,)\n"
     ]
    }
   ],
   "source": [
    "init_action = np.random.randint(low=0, high=2**8, size=16)\n",
    "print(init_action.shape)"
   ]
  },
  {
   "cell_type": "code",
   "execution_count": 5,
   "metadata": {},
   "outputs": [
    {
     "name": "stdout",
     "output_type": "stream",
     "text": [
      "(336,)\n"
     ]
    }
   ],
   "source": [
    "observation = np.concatenate((H_1_real, H_1_imag, H_2_real, H_2_imag, H_3_real, H_3_imag, Phi_real, Phi_imag, init_action), axis=0)\n",
    "# original shape when using np.hstack() is: (1, 336)\n",
    "print(observation.shape)"
   ]
  }
 ],
 "metadata": {
  "kernelspec": {
   "display_name": "sb3",
   "language": "python",
   "name": "python3"
  },
  "language_info": {
   "codemirror_mode": {
    "name": "ipython",
    "version": 3
   },
   "file_extension": ".py",
   "mimetype": "text/x-python",
   "name": "python",
   "nbconvert_exporter": "python",
   "pygments_lexer": "ipython3",
   "version": "3.8.17"
  },
  "orig_nbformat": 4
 },
 "nbformat": 4,
 "nbformat_minor": 2
}
