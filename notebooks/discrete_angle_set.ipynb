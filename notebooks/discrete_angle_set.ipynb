{
 "cells": [
  {
   "cell_type": "code",
   "execution_count": 1,
   "metadata": {},
   "outputs": [],
   "source": [
    "import numpy as np\n",
    "from sympy import sin, cos, pi\n",
    "\n",
    "import matplotlib.pyplot as plt\n",
    "from scipy.stats import vonmises_line\n",
    "\n",
    "import inspect\n",
    "\n",
    "def retrieve_name(var):\n",
    "    callers_local_vars = inspect.currentframe().f_back.f_back.f_locals.items()\n",
    "    return [var_name for var_name, var_val in callers_local_vars if var_val is var]\n",
    "\n",
    "def log(*argv):\n",
    "    for arg in argv:\n",
    "        print(f\"-\"*75)\n",
    "        print(f\"{retrieve_name(arg)}\")\n",
    "        print(f\"content: \")\n",
    "        print(arg)\n",
    "        print(f\"type: {type(arg)}\")\n",
    "        if isinstance(arg, np.ndarray):\n",
    "            print(f\"shape: {arg.shape}\")\n",
    "        elif isinstance(arg, list) or isinstance(arg, str) or isinstance(arg, dict):\n",
    "            print(f\"len: {len(arg)}\")"
   ]
  },
  {
   "cell_type": "code",
   "execution_count": 2,
   "metadata": {},
   "outputs": [
    {
     "name": "stdout",
     "output_type": "stream",
     "text": [
      "---------------------------------------------------------------------------\n",
      "['act']\n",
      "content: \n",
      "[0, 1, 2, 3, 4, 5, 6, 7]\n",
      "type: <class 'list'>\n",
      "len: 8\n",
      "---------------------------------------------------------------------------\n",
      "['bits']\n",
      "content: \n",
      "3\n",
      "type: <class 'int'>\n",
      "---------------------------------------------------------------------------\n",
      "['deg']\n",
      "content: \n",
      "[-150.0, -105.0, -60.0, -15.0, 30.0, 75.0, 120.0, 165.0]\n",
      "type: <class 'list'>\n",
      "len: 8\n",
      "---------------------------------------------------------------------------\n",
      "['rad']\n",
      "content: \n",
      "[-2.6179938779914944, -1.8325957145940461, -1.0471975511965976, -0.2617993877991494, 0.5235987755982988, 1.3089969389957472, 2.0943951023931953, 2.8797932657906435]\n",
      "type: <class 'list'>\n",
      "len: 8\n",
      "---------------------------------------------------------------------------\n",
      "['ans']\n",
      "content: \n",
      "[-150. -105.  -60.  -15.   30.   75.  120.  165.]\n",
      "type: <class 'numpy.ndarray'>\n",
      "shape: (8,)\n",
      "---------------------------------------------------------------------------\n",
      "['angle_set_deg']\n",
      "content: \n",
      "{0: -150.0, 1: -105.0, 2: -60.0, 3: -15.0, 4: 30.0, 5: 75.0, 6: 120.0, 7: 165.0}\n",
      "type: <class 'dict'>\n",
      "len: 8\n",
      "---------------------------------------------------------------------------\n",
      "['angle_set_rad']\n",
      "content: \n",
      "{0: -2.6179938779914944, 1: -1.8325957145940461, 2: -1.0471975511965976, 3: -0.2617993877991494, 4: 0.5235987755982988, 5: 1.3089969389957472, 6: 2.0943951023931953, 7: 2.8797932657906435}\n",
      "type: <class 'dict'>\n",
      "len: 8\n",
      "---------------------------------------------------------------------------\n",
      "[]\n",
      "content: \n",
      "[4.+0.j 1.+0.j 6.+0.j 3.+0.j 5.+0.j 3.+0.j 7.+0.j 0.+0.j 3.+0.j 3.+0.j\n",
      " 5.+0.j 7.+0.j 2.+0.j 5.+0.j 2.+0.j 7.+0.j]\n",
      "type: <class 'numpy.ndarray'>\n",
      "shape: (16,)\n",
      "---------------------------------------------------------------------------\n",
      "['init_action']\n",
      "content: \n",
      "[4 1 6 3 5 3 7 0 3 3 5 7 2 5 2 7]\n",
      "type: <class 'numpy.ndarray'>\n",
      "shape: (16,)\n"
     ]
    }
   ],
   "source": [
    "Ns = 16\n",
    "bits = 3\n",
    "n_actions = 2 ** bits\n",
    "spacing_degree = 360. / n_actions\n",
    "act = [i for i in range(n_actions)]\n",
    "deg = [spacing_degree*i - 180. - 15. for i in range(1, n_actions + 1)]\n",
    "rad = np.radians(deg).tolist()\n",
    "ans = np.degrees(rad)\n",
    "\n",
    "angle_set_deg = {\n",
    "    key:val for (key, val) in zip(act, deg)\n",
    "}\n",
    "angle_set_rad = {\n",
    "    key:val for (key, val) in zip(act, rad)\n",
    "}\n",
    "\n",
    "init_action = np.random.randint(low=0, high=n_actions, size=Ns)\n",
    "Phi = np.eye(Ns, dtype=complex)\n",
    "np.fill_diagonal(Phi, init_action)\n",
    "\n",
    "log(act, bits, deg, rad, ans, angle_set_deg, angle_set_rad, np.diag(Phi), init_action)"
   ]
  },
  {
   "cell_type": "code",
   "execution_count": 3,
   "metadata": {},
   "outputs": [
    {
     "name": "stdout",
     "output_type": "stream",
     "text": [
      "---------------------------------------------------------------------------\n",
      "['beta_PDA']\n",
      "content: \n",
      "1.00000000000000\n",
      "type: <class 'sympy.core.numbers.Float'>\n",
      "---------------------------------------------------------------------------\n",
      "['result']\n",
      "content: \n",
      "-3.20510345469184e-9 + 1.0*I\n",
      "type: <class 'sympy.core.add.Add'>\n"
     ]
    }
   ],
   "source": [
    "beta_min = 0.2\n",
    "kappa_PDA = 1.5\n",
    "angle_rad = 1.57079633\n",
    "beta_PDA = (1 - beta_min) * ((sin(angle_rad - 0.) + 1) / 2) ** kappa_PDA + beta_min\n",
    "result = beta_PDA * (cos(angle_rad) + 1j*sin(angle_rad))\n",
    "\n",
    "log(beta_PDA, result)"
   ]
  },
  {
   "cell_type": "code",
   "execution_count": 4,
   "metadata": {},
   "outputs": [
    {
     "name": "stdout",
     "output_type": "stream",
     "text": [
      "---------------------------------------------------------------------------\n",
      "['arr1']\n",
      "content: \n",
      "[[ 2 -7  5]\n",
      " [-6  2  0]]\n",
      "type: <class 'numpy.ndarray'>\n",
      "shape: (2, 3)\n",
      "---------------------------------------------------------------------------\n",
      "['arr2']\n",
      "content: \n",
      "[[ 5  8 -5]\n",
      " [ 3  6  9]]\n",
      "type: <class 'numpy.ndarray'>\n",
      "shape: (2, 3)\n",
      "---------------------------------------------------------------------------\n",
      "['arr1_add_arr2']\n",
      "content: \n",
      "[[ 7  1  0]\n",
      " [-3  8  9]]\n",
      "type: <class 'numpy.ndarray'>\n",
      "shape: (2, 3)\n"
     ]
    }
   ],
   "source": [
    "arr1 = np.array([[2, -7, 5], [-6, 2, 0]])\n",
    "arr2 = np.array([[5, 8, -5], [3, 6, 9]])\n",
    "arr1_add_arr2 = np.add(arr1, arr2)\n",
    "log(arr1, arr2, arr1_add_arr2)"
   ]
  }
 ],
 "metadata": {
  "kernelspec": {
   "display_name": "sb3",
   "language": "python",
   "name": "python3"
  },
  "language_info": {
   "codemirror_mode": {
    "name": "ipython",
    "version": 3
   },
   "file_extension": ".py",
   "mimetype": "text/x-python",
   "name": "python",
   "nbconvert_exporter": "python",
   "pygments_lexer": "ipython3",
   "version": "3.8.17"
  },
  "orig_nbformat": 4
 },
 "nbformat": 4,
 "nbformat_minor": 2
}
